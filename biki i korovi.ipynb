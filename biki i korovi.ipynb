{
 "cells": [
  {
   "cell_type": "code",
   "execution_count": null,
   "id": "bc800161",
   "metadata": {},
   "outputs": [],
   "source": [
    "def check_number(n):\n",
    "    while any([not x.isdigit() for x in n]) or len(n) != 4:\n",
    "        n = input('Введите правильное число')\n",
    "    return n\n",
    "while True:    \n",
    "    guessed = input(\"Введите четырехзначное число (можно со значащими нулями), которое хотите загадать (попросите, чтобы второй игрок отвернулся): \")\n",
    "    guessed = check_number(guessed)\n",
    "    cur = \"\"\n",
    "    count = 0\n",
    "    while guessed != cur:\n",
    "        count += 1\n",
    "        cows, bulls = 0, 0\n",
    "        cur = input(\"Введите число: \")\n",
    "        cur = check_number(cur)\n",
    "        for i in range(len(cur)):\n",
    "            if cur[i] == guessed[i]:\n",
    "                bulls += 1\n",
    "            elif cur[i] in guessed:\n",
    "                cows += 1\n",
    "        print(f\"Количество коров: {cows}.\", f\"Количество быков: {bulls}.\", sep=\"\\n\")\n",
    "    print(f\"Игра закончена! Количество понадобившихся попыток: {count}.\")\n",
    "    f = input(\"Хотите сыграть еще раз? (+/-): \")\n",
    "    while f not in \"+-\":\n",
    "        a = input(\"Введите + или -: \")\n",
    "    if a == \"-\":\n",
    "        break"
   ]
  }
 ],
 "metadata": {
  "kernelspec": {
   "display_name": "Python 3",
   "language": "python",
   "name": "python3"
  },
  "language_info": {
   "codemirror_mode": {
    "name": "ipython",
    "version": 3
   },
   "file_extension": ".py",
   "mimetype": "text/x-python",
   "name": "python",
   "nbconvert_exporter": "python",
   "pygments_lexer": "ipython3",
   "version": "3.8.8"
  }
 },
 "nbformat": 4,
 "nbformat_minor": 5
}
