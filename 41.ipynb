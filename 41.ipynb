{
 "cells": [
  {
   "cell_type": "markdown",
   "id": "d38d7a78",
   "metadata": {},
   "source": [
    "а) Создать класс «Студент» с полями «Имя», «Фамилия», «Год рождения» и «Средний балл». Создать хеш-таблицу для хранения объектов класса «Студент» по ключу — номеру зачетной книжки.\n",
    "б) Написать функцию для объединения двух хеш-таблиц.\n",
    "в) Реализуйте хеш-таблицу для хранения информации о клиентах туристического агентства. Ключом является номер паспорта клиента, значение — объект, содержащий информацию о клиенте (ФИО, контактная информация, список заказанных туров и т.д.). Используйте метод разрешения коллизий методом открытой адресации с линейным пробированием.\n"
   ]
  },
  {
   "cell_type": "code",
   "execution_count": 17,
   "id": "dc44fb3d",
   "metadata": {},
   "outputs": [
    {
     "name": "stdout",
     "output_type": "stream",
     "text": [
      "Зачётка: 1337, Студент: ('Volodya', 'Volodyev', 2000, 5.0)\n",
      "Зачётка: 7331, Студент: ('Vova', 'Pain', 1999, 3.0)\n",
      "Зачётка: 159, Студент: ('Vova', 'Bol', 2001, 2.0)\n"
     ]
    }
   ],
   "source": [
    "##a\n",
    "\n",
    "class Student:\n",
    "    def __init__(self, imya, familiya, dr, srbal):\n",
    "        self.imya = imya\n",
    "        self.familiya = familiya\n",
    "        self.dr = dr\n",
    "        self.srbal = srbal\n",
    "\n",
    "tabl = {}\n",
    "\n",
    "tabl['1337'] = 'Volodya', 'Volodyev', 2000, 5.0\n",
    "tabl['7331'] = 'Vova', 'Pain', 1999, 3.0\n",
    "tabl['159'] = 'Vova', 'Bol', 2001, 2.0\n",
    "\n",
    "for key, student in tabl.items():\n",
    "    print(f\"Зачётка: {key}, Студент: {student}\")"
   ]
  },
  {
   "cell_type": "code",
   "execution_count": 16,
   "id": "54beab33",
   "metadata": {},
   "outputs": [
    {
     "name": "stdout",
     "output_type": "stream",
     "text": [
      "Зачётка: 1337, Студент: ('Volodya', 'Volodyev', 2000, 4.54)\n",
      "Зачётка: 159, Студент: ('Vova', 'Pain', 1999, 3.0)\n"
     ]
    }
   ],
   "source": [
    "def tabl(tabl1, tabl2):\n",
    "    ogtabl = tabl1.copy()\n",
    "    for key, value in tabl2.items():\n",
    "        ogtabl[key] = value\n",
    "    return ogtabl\n",
    "\n",
    "\n",
    "table1 = {'1337': ('Volodya', 'Volodyev', 2000, 4.54)}\n",
    "table2 = {'159': ('Vova', 'Pain', 1999, 3.0)}\n",
    "\n",
    "ogtabl = tabl(table1, table2)\n",
    "for key, student in ogtabl.items():\n",
    "    print(f\"Зачётка: {key}, Студент: {student}\")"
   ]
  },
  {
   "cell_type": "code",
   "execution_count": null,
   "id": "e3680ca1",
   "metadata": {},
   "outputs": [],
   "source": []
  }
 ],
 "metadata": {
  "kernelspec": {
   "display_name": "Python 3 (ipykernel)",
   "language": "python",
   "name": "python3"
  },
  "language_info": {
   "codemirror_mode": {
    "name": "ipython",
    "version": 3
   },
   "file_extension": ".py",
   "mimetype": "text/x-python",
   "name": "python",
   "nbconvert_exporter": "python",
   "pygments_lexer": "ipython3",
   "version": "3.11.5"
  }
 },
 "nbformat": 4,
 "nbformat_minor": 5
}
