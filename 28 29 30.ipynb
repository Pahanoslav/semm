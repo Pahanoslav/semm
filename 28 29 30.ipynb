{
 "cells": [
  {
   "cell_type": "markdown",
   "id": "7cdc8215",
   "metadata": {},
   "source": [
    "а) Напишите лямбда-функцию, которая добавляет 15 к заданному числу, переданному в качестве аргумента, а также лямбда-функцию, которая умножает аргумент x на аргумент y, и выведите результат.\n",
    "б) Найти максимальное и минимальное значения в заданном списке кортежей с помощью лямбда-функции.\n",
    "в) Извлечь строки с заданной длиной из списка строковых значений с помощью лямбда-функции."
   ]
  },
  {
   "cell_type": "code",
   "execution_count": 1,
   "id": "2b94d36a",
   "metadata": {},
   "outputs": [
    {
     "name": "stdout",
     "output_type": "stream",
     "text": [
      "25\n"
     ]
    }
   ],
   "source": [
    "##a1\n",
    "\n",
    "a = lambda x: x + 15 \n",
    "#объявляем переменную а в которой объявляем функцию лямбда для X и добавляем к этому X 15 \n",
    "\n",
    "print(a(10))  \n",
    "#вызвали лямбду с аргументом 10 "
   ]
  },
  {
   "cell_type": "code",
   "execution_count": 16,
   "id": "452a65a7",
   "metadata": {},
   "outputs": [
    {
     "name": "stdout",
     "output_type": "stream",
     "text": [
      "15\n"
     ]
    }
   ],
   "source": [
    "##a2\n",
    "\n",
    "b = lambda x, y: x * y \n",
    "#объявляем переменную б в котором функция лямбда с двумя переменными икс и игрик (икс умножаем на игрик)\n",
    "\n",
    "print(b(5, 3)) \n",
    "#вызываем функцию с параметрами икс и игрик соответственно "
   ]
  },
  {
   "cell_type": "code",
   "execution_count": 15,
   "id": "9e94855e",
   "metadata": {},
   "outputs": [
    {
     "name": "stdout",
     "output_type": "stream",
     "text": [
      "(6, 19)\n",
      "(1, 5)\n"
     ]
    }
   ],
   "source": [
    "##b\n",
    "lst = [(1, 5), (6, 19), (4, 7)] \n",
    "#кортеж\n",
    "\n",
    "maxx = max(lst, key=lambda x: x[0]) \n",
    "#записываем в переменную maxx максимальное значение от нашего кортежа которая принимает на вход первый элемент кортежа и выводит его \n",
    "\n",
    "minn = min(lst, key=lambda x: x[0]) \n",
    "#тоже самое и здесь\n",
    " \n",
    "print(maxx)  \n",
    "print(minn)  "
   ]
  },
  {
   "cell_type": "code",
   "execution_count": 10,
   "id": "c09f84c8",
   "metadata": {},
   "outputs": [
    {
     "name": "stdout",
     "output_type": "stream",
     "text": [
      "['test', 'book', 'tool']\n"
     ]
    }
   ],
   "source": [
    "##v\n",
    "lst = [\"test\", \"apple\", \"book\", \"car\", \"tool\"]\n",
    "cel = 4\n",
    "\n",
    "fil = list(filter(lambda x: len(x) == cel, lst)) \n",
    "#принимает один параметр из списка и проверяет совпадает ли она с целью а фильтр добавляет в список если условие выполнено если нет то не надо\n",
    "print(fil)"
   ]
  },
  {
   "cell_type": "markdown",
   "id": "94fc02f2",
   "metadata": {},
   "source": [
    "а) Утройте все числа из заданного списка целых чисел, используя функцию map().\n",
    "б) Сгенерировать список целых чисел. С помощью функции filter() выбрать из списка все нечетные числа и упорядочить их по убыванию. Используя функцию reduce(), найти их произведение."
   ]
  },
  {
   "cell_type": "code",
   "execution_count": null,
   "id": "74b4f097",
   "metadata": {},
   "outputs": [],
   "source": [
    "##a \n",
    "nums = [1, 2, 3, 4, 5]\n",
    "\n",
    "num3 = list(map(lambda x: x * 3, nums))\n",
    "\n",
    "print(num3)"
   ]
  },
  {
   "cell_type": "code",
   "execution_count": 13,
   "id": "96ca009a",
   "metadata": {},
   "outputs": [
    {
     "name": "stdout",
     "output_type": "stream",
     "text": [
      "[9, 13, 41, 59, 63, 79, 81, 89]\n",
      "10154636840439\n"
     ]
    }
   ],
   "source": [
    "##b \n",
    "from functools import reduce\n",
    "import random\n",
    "nums = [random.randint(1, 100) for _ in range(10)]\n",
    "\n",
    "nums1 = list(filter(lambda x: x % 2 != 0, nums))\n",
    "sortnums1 = sorted(nums1)\n",
    "\n",
    "nums2 = reduce(lambda x, y: x * y, sortnums1)\n",
    "\n",
    "\n",
    "print(sortnums1)\n",
    "print(nums2)"
   ]
  },
  {
   "cell_type": "markdown",
   "id": "5f1b87ab",
   "metadata": {},
   "source": [
    "а) Создайте декоратор, который будет выводить время выполнения функции и сохранять его в файл.\n",
    "б) Создайте декоратор, который будет принимать аргументы и передавать их в функцию в качестве позиционных параметров с заданными значениями по умолчанию."
   ]
  },
  {
   "cell_type": "code",
   "execution_count": null,
   "id": "5b980d40",
   "metadata": {
    "collapsed": true
   },
   "outputs": [],
   "source": []
  }
 ],
 "metadata": {
  "kernelspec": {
   "display_name": "Python 3 (ipykernel)",
   "language": "python",
   "name": "python3"
  },
  "language_info": {
   "codemirror_mode": {
    "name": "ipython",
    "version": 3
   },
   "file_extension": ".py",
   "mimetype": "text/x-python",
   "name": "python",
   "nbconvert_exporter": "python",
   "pygments_lexer": "ipython3",
   "version": "3.11.5"
  }
 },
 "nbformat": 4,
 "nbformat_minor": 5
}
