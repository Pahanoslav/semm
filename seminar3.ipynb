{
 "cells": [
  {
   "cell_type": "code",
   "execution_count": null,
   "id": "98426b87",
   "metadata": {},
   "outputs": [],
   "source": [
    "##1\n",
    "\n",
    "import re\n",
    "a = \"aaa--bbb==ccc__ddd\"\n",
    "a = re.split(\"--|==|__\", a)\n",
    "print(a)"
   ]
  },
  {
   "cell_type": "code",
   "execution_count": null,
   "id": "27e33866",
   "metadata": {},
   "outputs": [],
   "source": [
    "##2\n",
    "\n",
    "import re\n",
    "a = input(\"\")\n",
    "b = research(r'\\w+', a).group()\n",
    "print(b)"
   ]
  },
  {
   "cell_type": "code",
   "execution_count": null,
   "id": "e4a116c0",
   "metadata": {},
   "outputs": [],
   "source": [
    "##3\n",
    "\n",
    "import re\n",
    "a = input('')\n",
    "b = re. findall(r'\\w+', a)[-1]\n",
    "print(b)"
   ]
  },
  {
   "cell_type": "code",
   "execution_count": null,
   "id": "edbb0c30",
   "metadata": {},
   "outputs": [],
   "source": [
    "##4\n",
    "\n",
    "import re\n",
    "a = input('\")\n",
    "b = re.findall(r'\\[eyuioaEYUIOA]\\w+', a)\n",
    "print(b)"
   ]
  },
  {
   "cell_type": "code",
   "execution_count": null,
   "id": "ff60282e",
   "metadata": {},
   "outputs": [],
   "source": [
    "##5\n",
    "\n",
    "import re\n",
    "a = input('')\n",
    "mail = re.findall(r'w+[@]\\w+[.]\\w+', a)\n",
    "print(mail)"
   ]
  },
  {
   "cell_type": "code",
   "execution_count": null,
   "id": "d3fd40cc",
   "metadata": {},
   "outputs": [],
   "source": [
    "##6\n",
    "\n",
    "import re\n",
    "a = input(\"\")\n",
    "mail = re.findali(r'w+[@]\\w+[.]\\w+', a)\n",
    "if bool(mail) is True:\n",
    "    main = re.findall(r\"\\w+\", a)[-1]\n",
    "    print(main)\n",
    "else:\n",
    "    print('error')"
   ]
  },
  {
   "cell_type": "code",
   "execution_count": null,
   "id": "87ee042f",
   "metadata": {},
   "outputs": [],
   "source": [
    "##7\n",
    "\n",
    "???"
   ]
  },
  {
   "cell_type": "code",
   "execution_count": null,
   "id": "329f5f18",
   "metadata": {},
   "outputs": [],
   "source": [
    "##8\n",
    "\n",
    "import re\n",
    "nomer = input()\n",
    "narmalna = r'^\\+7 (\\s?\\d{3}){2}-\\d{2}-\\d{2}$|^\\+7\\s?\\d{3}\\s?\\d{3}-\\d{2}-\\d{2}$|^|+7\\s?\\d{3}\\s?\\d{3}\\s?\\d{2}\\s?\\d{2}$'\n",
    "if re.match(narmalna, nomer):\n",
    "    print('Правильно')\n",
    "else:\n",
    "    print('Неправильно')"
   ]
  }
 ],
 "metadata": {
  "kernelspec": {
   "display_name": "Python 3",
   "language": "python",
   "name": "python3"
  },
  "language_info": {
   "codemirror_mode": {
    "name": "ipython",
    "version": 3
   },
   "file_extension": ".py",
   "mimetype": "text/x-python",
   "name": "python",
   "nbconvert_exporter": "python",
   "pygments_lexer": "ipython3",
   "version": "3.8.8"
  }
 },
 "nbformat": 4,
 "nbformat_minor": 5
}
