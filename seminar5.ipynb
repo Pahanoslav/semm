{
 "cells": [
  {
   "cell_type": "code",
   "execution_count": null,
   "id": "2c7f8b9d",
   "metadata": {},
   "outputs": [],
   "source": [
    "##1 \n",
    "\n",
    "a = ['1', '123', '123', '12', '1', '123']\n",
    "print([len(i) for i in a])"
   ]
  },
  {
   "cell_type": "code",
   "execution_count": null,
   "id": "08def5fd",
   "metadata": {},
   "outputs": [],
   "source": [
    "##2\n",
    "\n",
    "a = ['1', '123', '123', '12', '1', '123']\n",
    "print(sum(1 for x in a if len(x) > 2))"
   ]
  },
  {
   "cell_type": "code",
   "execution_count": null,
   "id": "f41775f5",
   "metadata": {},
   "outputs": [],
   "source": [
    "##3 \n",
    "\n",
    "a = [2, 4, -2, -3, 0 , 11 , 3, -1]\n",
    "print([a[i] * (a.index(a[i]) + 1) for i in range(len(a))])"
   ]
  },
  {
   "cell_type": "code",
   "execution_count": null,
   "id": "879fd9ec",
   "metadata": {},
   "outputs": [],
   "source": [
    "##4\n",
    "\n",
    "a = [2, 4, -2, -3, 0 , 11 , 3, -1]\n",
    "print([i for i in a if i > 0 ])"
   ]
  },
  {
   "cell_type": "code",
   "execution_count": null,
   "id": "8afc17e3",
   "metadata": {},
   "outputs": [],
   "source": [
    "##5 \n",
    "\n",
    "a = [2, 4, -2, -3, 0 , 11 , 3, -1]\n",
    "print([i if i >= 0 else (a.index(i) + 1) for i in a])"
   ]
  },
  {
   "cell_type": "code",
   "execution_count": null,
   "id": "400a7a36",
   "metadata": {},
   "outputs": [],
   "source": [
    "##6\n",
    "\n",
    "a = input() \n",
    "print({char: index + 1 for index, char in enumerate(a)}) "
   ]
  },
  {
   "cell_type": "code",
   "execution_count": null,
   "id": "0519b5b6",
   "metadata": {},
   "outputs": [],
   "source": [
    "##7\n",
    "\n",
    "a = [input() for i in range(5)] \n",
    "print(sum(1 for c in a if c in result))"
   ]
  },
  {
   "cell_type": "code",
   "execution_count": null,
   "id": "66351c9e",
   "metadata": {},
   "outputs": [],
   "source": [
    "##8\n",
    "\n",
    "???"
   ]
  },
  {
   "cell_type": "code",
   "execution_count": null,
   "id": "dcad226d",
   "metadata": {},
   "outputs": [],
   "source": [
    "##9\n",
    "\n",
    "???"
   ]
  },
  {
   "cell_type": "code",
   "execution_count": null,
   "id": "9b829e7f",
   "metadata": {},
   "outputs": [],
   "source": [
    "##10\n",
    "\n",
    "a = {1: 10, 2: 20, 3: 30, 4: 40, 5: 50, 6: 60}\n",
    "print(sum(key * value for key, value in a.items()))"
   ]
  },
  {
   "cell_type": "code",
   "execution_count": null,
   "id": "0a334719",
   "metadata": {},
   "outputs": [],
   "source": [
    "##11\n",
    "\n",
    "a = {'e': 20, 'f': 21, 'g': 22, 'h': 23, 'i': 24, 'j': 25, 'k': 26, 'l': 27}\n",
    "b = {'a': 3, 'b': 4, 'c': 5, 'd': 6, 'e': 7, 'f': 8, 'g': 9}\n",
    "print({key: value for key, value in a.items() if key not in b})"
   ]
  },
  {
   "cell_type": "code",
   "execution_count": null,
   "id": "7a7d875d",
   "metadata": {},
   "outputs": [],
   "source": [
    "##12\n",
    "\n",
    "a = {'a': 3, 'b': 4, 'c': 5, 'd': 6, 'e': 7, 'f': 8, 'g': 9}\n",
    "b = {'e': 20, 'f': 21, 'g': 22, 'h': 23, 'i': 24, 'j': 25, 'k': 26, 'l': 27}\n",
    "print({**a, **({key: value for key, value in b.items() if key not in a})})"
   ]
  }
 ],
 "metadata": {
  "kernelspec": {
   "display_name": "Python 3",
   "language": "python",
   "name": "python3"
  },
  "language_info": {
   "codemirror_mode": {
    "name": "ipython",
    "version": 3
   },
   "file_extension": ".py",
   "mimetype": "text/x-python",
   "name": "python",
   "nbconvert_exporter": "python",
   "pygments_lexer": "ipython3",
   "version": "3.8.8"
  }
 },
 "nbformat": 4,
 "nbformat_minor": 5
}
