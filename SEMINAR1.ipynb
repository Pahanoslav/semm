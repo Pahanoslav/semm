{
 "cells": [
  {
   "cell_type": "code",
   "execution_count": null,
   "id": "4e053239",
   "metadata": {},
   "outputs": [],
   "source": [
    "##2\n",
    "\n",
    "x = int(input(\"x: \"))\n",
    "if x * x > 6 - x and x > 0:\n",
    "    print(True)\n",
    "else:\n",
    "    print(False)"
   ]
  },
  {
   "cell_type": "code",
   "execution_count": null,
   "id": "7f693dc9",
   "metadata": {},
   "outputs": [],
   "source": [
    "##3\n",
    "\n",
    "a = int(input(\"a: \"))\n",
    "b = int(input(\"b: \"))\n",
    "c = int(input(\"c: \"))\n",
    "if 0 <= a <= c and 0 <= b < c and b == 2 and 0 <= c <5:\n",
    "    print(True)\n",
    "else:\n",
    "    print(False)"
   ]
  },
  {
   "cell_type": "code",
   "execution_count": null,
   "id": "2076b77a",
   "metadata": {},
   "outputs": [],
   "source": [
    "##3.2\n",
    "\n",
    "a = input(\"Введите первую строку: \")\n",
    "b = input(\"Введите вторую строку: \")\n",
    "if len(a) > len(b) and a < b:\n",
    "    print(\"Удовлетворяет\")\n",
    "else:\n",
    "    print(\"Не удовлетворяет\")"
   ]
  },
  {
   "cell_type": "code",
   "execution_count": null,
   "id": "e96ce11b",
   "metadata": {},
   "outputs": [],
   "source": [
    "##4\n",
    "\n",
    "s1 = 'string'\n",
    "s2 = 'String'\n",
    "s3 = 'strinG'\n",
    "s4 = 'stringlong'\n",
    "s5 = ' string'\n",
    "s6 = 'string '\n",
    "s7 = '_string'\n",
    "\n",
    "if s7 < s5 and s5 < s6 and s6 < s3 and s3 < s2 and s2 < s1 and s1 < s4:\n",
    "    print('все ок')\n",
    "else:\n",
    "    print(\"!возрастание\")"
   ]
  },
  {
   "cell_type": "code",
   "execution_count": null,
   "id": "8af8738b",
   "metadata": {},
   "outputs": [],
   "source": [
    "##5\n",
    "\n",
    "input_string = input(\"Введите строку: \")\n",
    "if \"!!!\" in input_string and \"???\" in input_string:\n",
    "    pass  \n",
    "elif input_string.startswith(\"!!!\"):\n",
    "    print(\"Nota bene:\", input_string[3:])  \n",
    "    print(\"exclaim\")  \n",
    "elif \"???\" in input_string:\n",
    "    print(\"question\")  \n",
    "else:\n",
    "    print(\"random\")  "
   ]
  },
  {
   "cell_type": "code",
   "execution_count": null,
   "id": "6b52c1a3",
   "metadata": {},
   "outputs": [],
   "source": [
    "##6\n",
    "\n",
    "s1 = input()\n",
    "a = input()\n",
    "s2 = input()\n",
    "if len(s1) > 5 and len(s2) > 5 and len(a) > 5:\n",
    "    if s1 and not a - 5 and not s2:\n",
    "       print('Правильно')\n",
    "    else:\n",
    "       print('Неправильно')\n",
    "elif len(s1) % 2 != 0 and len(s2) % 2 != 0 and len(a) % 2 != 0:\n",
    "    print(s1 + \"-\" + s1 + \"-\" + s1, s2 + \"-\" + s2 + \"-\" + s2, a + \"-\" + a + \"-\" + a, sep = \"\\n\")"
   ]
  },
  {
   "cell_type": "code",
   "execution_count": null,
   "id": "ea5d9010",
   "metadata": {},
   "outputs": [],
   "source": [
    "##7\n",
    "\n",
    "x = \"banana monkey\"\n",
    "y = \"orangutan\"\n",
    "friend = x if \"banana\" in x else y\n",
    "print(friend)  "
   ]
  }
 ],
 "metadata": {
  "kernelspec": {
   "display_name": "Python 3",
   "language": "python",
   "name": "python3"
  },
  "language_info": {
   "codemirror_mode": {
    "name": "ipython",
    "version": 3
   },
   "file_extension": ".py",
   "mimetype": "text/x-python",
   "name": "python",
   "nbconvert_exporter": "python",
   "pygments_lexer": "ipython3",
   "version": "3.8.8"
  }
 },
 "nbformat": 4,
 "nbformat_minor": 5
}
