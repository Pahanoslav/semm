{
 "cells": [
  {
   "cell_type": "code",
   "execution_count": null,
   "id": "2560ea67",
   "metadata": {},
   "outputs": [],
   "source": [
    "##1\n",
    "\n",
    "a = input()\n",
    "b = input()\n",
    "c = []\n",
    "for i in range(len(a)):\n",
    "    if a[i] in b:\n",
    "        c.append(a[i])\n",
    "print(\"\".join(c))"
   ]
  },
  {
   "cell_type": "code",
   "execution_count": null,
   "id": "a320a563",
   "metadata": {},
   "outputs": [],
   "source": [
    "##2\n",
    "\n",
    "\n",
    "a = int(input())\n",
    "b = 1\n",
    "while a > 0:\n",
    "    b = b * a\n",
    "    a = a - 2\n",
    "print(b)"
   ]
  },
  {
   "cell_type": "code",
   "execution_count": null,
   "id": "a67020dc",
   "metadata": {},
   "outputs": [],
   "source": [
    "##3\n",
    "\n",
    "a = int(input())\n",
    "b = 1\n",
    "for i in range(1, a + 1, 2):\n",
    "    b = b * i\n",
    "print(b)"
   ]
  },
  {
   "cell_type": "code",
   "execution_count": null,
   "id": "07bcf5f6",
   "metadata": {},
   "outputs": [],
   "source": [
    "##4\n",
    "\n",
    "a = int(input())\n",
    "b = int(input())\n",
    "for i in range(a, b + 1):\n",
    "    c = 0\n",
    "    for j in range(2, i):\n",
    "        if i % j == 0:\n",
    "            c += 1\n",
    "    if c == 0:\n",
    "        print(i)\n",
    "    else:\n",
    "        continue"
   ]
  },
  {
   "cell_type": "code",
   "execution_count": null,
   "id": "be99c164",
   "metadata": {},
   "outputs": [],
   "source": [
    "##5\n",
    "\n",
    "???"
   ]
  },
  {
   "cell_type": "code",
   "execution_count": null,
   "id": "48292eeb",
   "metadata": {},
   "outputs": [],
   "source": [
    "##6\n",
    "\n",
    "a = input()\n",
    "for i in range(1, len(a) + 1):\n",
    "    if len(a) % i == 0:\n",
    "        print(a[i - 1], end = \"\")"
   ]
  },
  {
   "cell_type": "code",
   "execution_count": null,
   "id": "73108189",
   "metadata": {},
   "outputs": [],
   "source": [
    "##7\n",
    "\n",
    "???"
   ]
  }
 ],
 "metadata": {
  "kernelspec": {
   "display_name": "Python 3",
   "language": "python",
   "name": "python3"
  },
  "language_info": {
   "codemirror_mode": {
    "name": "ipython",
    "version": 3
   },
   "file_extension": ".py",
   "mimetype": "text/x-python",
   "name": "python",
   "nbconvert_exporter": "python",
   "pygments_lexer": "ipython3",
   "version": "3.8.8"
  }
 },
 "nbformat": 4,
 "nbformat_minor": 5
}
