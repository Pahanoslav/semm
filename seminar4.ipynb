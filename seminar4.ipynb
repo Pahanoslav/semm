{
 "cells": [
  {
   "cell_type": "code",
   "execution_count": null,
   "id": "bbf13078",
   "metadata": {},
   "outputs": [],
   "source": [
    "##1\n",
    "\n",
    "n = [31, 24, 17]\n",
    "print(numbers)\n",
    "\n",
    "\n",
    "nc = n[:]\n",
    "print(nc)\n",
    "\n",
    "nr = list(range(31, 16, -7))\n",
    "print(nr)\n",
    "\n",
    "cl = [n, nc, nr]\n",
    "print(cl)"
   ]
  },
  {
   "cell_type": "code",
   "execution_count": null,
   "id": "0a273cec",
   "metadata": {},
   "outputs": [],
   "source": [
    "##2.1\n",
    "\n",
    "a = input()\n",
    "b = []\n",
    "b.extend(str(a))\n",
    "print(b)"
   ]
  },
  {
   "cell_type": "code",
   "execution_count": null,
   "id": "e73c2a95",
   "metadata": {},
   "outputs": [],
   "source": [
    "##2.2\n",
    "\n",
    "a = input()\n",
    "b = []\n",
    "for i in a:\n",
    "    if i in \"0123456789\":\n",
    "        b.append(i)\n",
    "print(b)"
   ]
  },
  {
   "cell_type": "code",
   "execution_count": null,
   "id": "cda8a0b3",
   "metadata": {},
   "outputs": [],
   "source": [
    "##4 \n",
    "\n",
    "s1 = input()\n",
    "s2 = input()\n",
    "order_string = \"после\" if s1 > s2 else \"до\"\n",
    "output = input(\"Введите 'lengths' или 'order': \")\n",
    "if output == 'lengths':\n",
    "    print(f\"Длины строк: {len(s1)} и {len(s2)}\")\n",
    "elif output == 'order':\n",
    "    print(f\"Строка '{s1}' {order_string} строки '{s2}'\")"
   ]
  },
  {
   "cell_type": "code",
   "execution_count": null,
   "id": "2e6bd145",
   "metadata": {},
   "outputs": [],
   "source": [
    "##5.1\n",
    "\n",
    "maxx = int(input()), int(input())\n",
    "r = int(input())\n",
    "a = [i for i in range(1, maxx + 1)] * r\n",
    "print(a)"
   ]
  },
  {
   "cell_type": "code",
   "execution_count": null,
   "id": "ec196abd",
   "metadata": {},
   "outputs": [],
   "source": [
    "##5.2\n",
    "\n",
    "????"
   ]
  },
  {
   "cell_type": "code",
   "execution_count": null,
   "id": "8b22d4e1",
   "metadata": {},
   "outputs": [],
   "source": [
    "##6\n",
    "\n",
    "a = input()\n",
    "b = list(a)\n",
    "c = []\n",
    "for i in range(1, len(b) - 1):\n",
    "    if b[i] == \"s\" or b[i] == \"S\":\n",
    "        b[i] = (b[i - 1]) * 2 + (b[i + 1])\n",
    "        c.append(b[i])\n",
    "    else:\n",
    "        c.append(b[i])\n",
    "        \n",
    "d = [b[0]] + c + [b[-1]]\n",
    "print(d)   "
   ]
  },
  {
   "cell_type": "code",
   "execution_count": null,
   "id": "b2626071",
   "metadata": {},
   "outputs": [],
   "source": [
    "##7\n",
    "\n",
    "???"
   ]
  },
  {
   "cell_type": "code",
   "execution_count": null,
   "id": "56b8b4cc",
   "metadata": {},
   "outputs": [],
   "source": [
    "##8\n",
    "\n",
    "a1 = input().split()\n",
    "a2 = input().split()\n",
    "b = 1\n",
    "for i in a2:\n",
    "        a1.insert(b, i)\n",
    "        b += 2\n",
    "print(\" \".join(a1))"
   ]
  },
  {
   "cell_type": "code",
   "execution_count": null,
   "id": "5cb79ecd",
   "metadata": {},
   "outputs": [],
   "source": [
    "##9\n",
    "\n",
    "a1 = input().split()\n",
    "a2 = input().split()\n",
    "b = zip(a1, a2)\n",
    "print(list(b))"
   ]
  },
  {
   "cell_type": "code",
   "execution_count": null,
   "id": "c7fdbb3b",
   "metadata": {},
   "outputs": [],
   "source": [
    "##10\n",
    "\n",
    "a = input(\"Введите строку: \").split()\n",
    "b = int(input(\"Введите число, на которое хотите сдвинуть строку: \"))\n",
    "print(\" \".join(a[b:]+a[:b]))"
   ]
  },
  {
   "cell_type": "code",
   "execution_count": 3,
   "id": "0a1f9518",
   "metadata": {},
   "outputs": [
    {
     "name": "stdout",
     "output_type": "stream",
     "text": [
      "Количество чисел в списке: 3\n",
      "Введите число от 1 до 20: 3\n",
      "Введите число от 1 до 20: 3\n",
      "Введите число от 1 до 20: 3\n",
      "[3, 3, 3]\n"
     ]
    }
   ],
   "source": [
    "##11\n",
    "\n",
    "a = int(input(\"Количество чисел в списке: \"))\n",
    "b = []\n",
    "for i in range(a):\n",
    "    j = int(input(\"Введите число от 1 до 20: \"))\n",
    "    b.append(j)\n",
    "c = []\n",
    "for i in b:\n",
    "    n = 0\n",
    "    for j in range(2, i):\n",
    "        if i % j == 0:\n",
    "            n += 1\n",
    "            c.append(j)\n",
    "    if h == 0:\n",
    "        c.append(i)\n",
    "print(c)            "
   ]
  },
  {
   "cell_type": "code",
   "execution_count": null,
   "id": "6ae00680",
   "metadata": {},
   "outputs": [],
   "source": [
    "##12\n",
    "a = [3, 1, 7, 4, 5, 5, 8]\n",
    "b = {x:a.count(x) for x in a}\n",
    "c = [d for d,e in b.items() if d==1][-1]\n",
    "\n",
    "print(c)"
   ]
  },
  {
   "cell_type": "code",
   "execution_count": null,
   "id": "3bac4a0f",
   "metadata": {},
   "outputs": [],
   "source": [
    "##13\n",
    "\n",
    "a = [3, 1, 7, 4, 5, 5, 8]\n",
    "b = {x:a.count(x) for x in a}\n",
    "c = [d for d,e in c.items() if e==1][-1]\n",
    "print(c.index(c))"
   ]
  },
  {
   "cell_type": "code",
   "execution_count": null,
   "id": "e0ef7815",
   "metadata": {},
   "outputs": [],
   "source": [
    "##14\n",
    "\n",
    "???"
   ]
  },
  {
   "cell_type": "code",
   "execution_count": null,
   "id": "c28b637b",
   "metadata": {},
   "outputs": [],
   "source": [
    "##15\n",
    "\n",
    "???"
   ]
  },
  {
   "cell_type": "code",
   "execution_count": null,
   "id": "7b65bd0d",
   "metadata": {},
   "outputs": [],
   "source": [
    "##16\n",
    "\n",
    "import copy\n",
    "ma = [[1, 2], [3, 4]]\n",
    "cma = copy.deepcopy(ma)"
   ]
  },
  {
   "cell_type": "code",
   "execution_count": null,
   "id": "1dfeaa18",
   "metadata": {},
   "outputs": [],
   "source": [
    "##17\n",
    "\n",
    "a = 'дыня абрикос яблоко арбуз'\n",
    "sa= ' '.join(sorted(a.split()))\n",
    "print(a)"
   ]
  },
  {
   "cell_type": "code",
   "execution_count": null,
   "id": "30c4db73",
   "metadata": {},
   "outputs": [],
   "source": []
  },
  {
   "cell_type": "code",
   "execution_count": null,
   "id": "fe0bd0fd",
   "metadata": {},
   "outputs": [],
   "source": [
    "##18\n",
    "\n",
    "???"
   ]
  }
 ],
 "metadata": {
  "kernelspec": {
   "display_name": "Python 3",
   "language": "python",
   "name": "python3"
  },
  "language_info": {
   "codemirror_mode": {
    "name": "ipython",
    "version": 3
   },
   "file_extension": ".py",
   "mimetype": "text/x-python",
   "name": "python",
   "nbconvert_exporter": "python",
   "pygments_lexer": "ipython3",
   "version": "3.8.8"
  }
 },
 "nbformat": 4,
 "nbformat_minor": 5
}
